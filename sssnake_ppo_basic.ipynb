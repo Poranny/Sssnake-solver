{
 "cells": [
  {
   "metadata": {},
   "cell_type": "code",
   "source": [
    "# pip install -i https://test.pypi.org/simple/ --extra-index-url https://pypi.org/simple/ --upgrade \"sssnake\"\n",
    "# pip install stable_baselines3, matplotlib"
   ],
   "id": "b85dd41816ecd91c",
   "outputs": [],
   "execution_count": null
  },
  {
   "metadata": {},
   "cell_type": "code",
   "source": "import sssnake",
   "id": "1cf54002471294db",
   "outputs": [],
   "execution_count": null
  },
  {
   "metadata": {},
   "cell_type": "code",
   "source": [
    "import gymnasium as gym\n",
    "\n",
    "base_env = gym.make(\"Sssnake-v0\", render_mode=\"rgb_array\")"
   ],
   "id": "2457a8a5bedafce4",
   "outputs": [],
   "execution_count": null
  },
  {
   "metadata": {},
   "cell_type": "code",
   "source": [
    "class BasicObservationWrapper(gym.ObservationWrapper):\n",
    "    def __init__(self, env: gym.Env, keys_to_keep=(\"head_position\",\n",
    "                                                   \"head_direction_vec\",\n",
    "                                                   \"candy_position\")):\n",
    "        super().__init__(env)\n",
    "        self._keys = tuple(keys_to_keep)\n",
    "\n",
    "        subspaces = {}\n",
    "        for k in self._keys:\n",
    "            subspaces[k] = env.observation_space[k]\n",
    "\n",
    "        self.observation_space = gym.spaces.Dict(subspaces)\n",
    "\n",
    "    def observation(self, obs):\n",
    "        new_obs = {}\n",
    "        for k in self._keys:\n",
    "            new_obs[k] = obs[k]\n",
    "        return new_obs"
   ],
   "id": "94bace1f68d90103",
   "outputs": [],
   "execution_count": null
  },
  {
   "metadata": {},
   "cell_type": "code",
   "source": [
    "from stable_baselines3.common.vec_env import SubprocVecEnv\n",
    "from stable_baselines3 import PPO\n",
    "from stable_baselines3.common.env_util import make_vec_env"
   ],
   "id": "856050cb17c93333",
   "outputs": [],
   "execution_count": null
  },
  {
   "metadata": {},
   "cell_type": "code",
   "source": [
    "basic_env = BasicObservationWrapper(base_env)\n",
    "\n",
    "flattened_env = gym.wrappers.FlattenObservation(basic_env)\n",
    "\n",
    "vec_env = make_vec_env(lambda: flattened_env, n_envs=1, vec_env_cls=SubprocVecEnv)"
   ],
   "id": "994de853dbeb5c94",
   "outputs": [],
   "execution_count": null
  },
  {
   "metadata": {},
   "cell_type": "code",
   "source": "model = PPO(\"MlpPolicy\", vec_env, verbose=1, device=\"cpu\")",
   "id": "7bf4a8eadfb7477f",
   "outputs": [],
   "execution_count": null
  },
  {
   "metadata": {},
   "cell_type": "code",
   "source": "model.learn(total_timesteps=500_000)",
   "id": "4aeb4ad8da0571aa",
   "outputs": [],
   "execution_count": null
  },
  {
   "metadata": {},
   "cell_type": "code",
   "source": "model.save(\"ppo_snake_candy\")",
   "id": "f3b7d7415b6af4d2",
   "outputs": [],
   "execution_count": null
  },
  {
   "metadata": {},
   "cell_type": "code",
   "source": [
    "import matplotlib as mpl\n",
    "mpl.rcParams['animation.embed_limit'] = 100"
   ],
   "id": "43dd21e8471fc606",
   "outputs": [],
   "execution_count": null
  },
  {
   "metadata": {},
   "cell_type": "code",
   "source": [
    "import matplotlib.pyplot as plt\n",
    "from matplotlib import animation\n",
    "from IPython.display import HTML\n",
    "\n",
    "render_env = gym.wrappers.RecordEpisodeStatistics(\n",
    "    gym.make(\"Sssnake-v0\", render_mode=\"rgb_array\")\n",
    ")\n",
    "\n",
    "render_env = BasicObservationWrapper(render_env)\n",
    "render_env = gym.wrappers.FlattenObservation(render_env)\n",
    "\n",
    "obs, _ = render_env.reset()\n",
    "frames = []\n",
    "done = False\n",
    "\n",
    "while not done:\n",
    "    action, _ = model.predict(obs, deterministic=False)\n",
    "    obs, reward, terminated, truncated, _ = render_env.step(action)\n",
    "    done = terminated or truncated\n",
    "    frame = render_env.render()\n",
    "    frames.append(frame)\n",
    "print(\"Frames for this episode: \", len(frames))"
   ],
   "id": "d9449e5aeb5fe69f",
   "outputs": [],
   "execution_count": null
  },
  {
   "metadata": {},
   "cell_type": "code",
   "source": [
    "%matplotlib inline\n",
    "\n",
    "fig = plt.figure(figsize=(6, 6))\n",
    "plt.axis(\"off\")\n",
    "im = plt.imshow(frames[0])\n",
    "\n",
    "def update(frame):\n",
    "    im.set_array(frame)\n",
    "    return [im]\n",
    "\n",
    "ani = animation.FuncAnimation(fig, update, frames=frames, interval=20)\n",
    "HTML(ani.to_jshtml())\n"
   ],
   "id": "bcafe1484121efca",
   "outputs": [],
   "execution_count": null
  },
  {
   "metadata": {},
   "cell_type": "code",
   "source": "ani.save(\"snake_animation.mp4\", fps=50, extra_args=['-vcodec', 'libx264'])",
   "id": "9c04458cdd15b66f",
   "outputs": [],
   "execution_count": null
  }
 ],
 "metadata": {
  "kernelspec": {
   "display_name": "Python 3",
   "language": "python",
   "name": "python3"
  },
  "language_info": {
   "codemirror_mode": {
    "name": "ipython",
    "version": 2
   },
   "file_extension": ".py",
   "mimetype": "text/x-python",
   "name": "python",
   "nbconvert_exporter": "python",
   "pygments_lexer": "ipython2",
   "version": "2.7.6"
  }
 },
 "nbformat": 4,
 "nbformat_minor": 5
}
